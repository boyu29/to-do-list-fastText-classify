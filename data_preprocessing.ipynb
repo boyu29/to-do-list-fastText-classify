{
 "metadata": {
  "language_info": {
   "codemirror_mode": {
    "name": "ipython",
    "version": 3
   },
   "file_extension": ".py",
   "mimetype": "text/x-python",
   "name": "python",
   "nbconvert_exporter": "python",
   "pygments_lexer": "ipython3",
   "version": "3.7.7-final"
  },
  "orig_nbformat": 2,
  "kernelspec": {
   "name": "python_defaultSpec_1599034637931",
   "display_name": "Python 3.7.7 64-bit"
  }
 },
 "nbformat": 4,
 "nbformat_minor": 2,
 "cells": [
  {
   "cell_type": "markdown",
   "metadata": {},
   "source": [
    "# 1. 数据预处理"
   ]
  },
  {
   "cell_type": "markdown",
   "metadata": {},
   "source": [
    "## 1.1 训练数据集预处理"
   ]
  },
  {
   "cell_type": "code",
   "execution_count": 234,
   "metadata": {},
   "outputs": [
    {
     "output_type": "execute_result",
     "data": {
      "text/plain": "   label                                       text\n0      1    小张，你明天需要把产品方案输出，然后给小王。小王后天把交互做一下，大后天评审。\n1      1                            我明天应该可以把这个文档搞定。\n2      1  统计异常数据那么简单的事情，怎么可能要3天时间呢！今天下班前，务必把这个事情搞定！\n3      1             李总说的这个想法，一定要在8月10日之前形成一个成熟的方案。\n4      1                  走廊里的空箱子太多了，小张你明天把它们全部处理掉。",
      "text/html": "<div>\n<style scoped>\n    .dataframe tbody tr th:only-of-type {\n        vertical-align: middle;\n    }\n\n    .dataframe tbody tr th {\n        vertical-align: top;\n    }\n\n    .dataframe thead th {\n        text-align: right;\n    }\n</style>\n<table border=\"1\" class=\"dataframe\">\n  <thead>\n    <tr style=\"text-align: right;\">\n      <th></th>\n      <th>label</th>\n      <th>text</th>\n    </tr>\n  </thead>\n  <tbody>\n    <tr>\n      <th>0</th>\n      <td>1</td>\n      <td>小张，你明天需要把产品方案输出，然后给小王。小王后天把交互做一下，大后天评审。</td>\n    </tr>\n    <tr>\n      <th>1</th>\n      <td>1</td>\n      <td>我明天应该可以把这个文档搞定。</td>\n    </tr>\n    <tr>\n      <th>2</th>\n      <td>1</td>\n      <td>统计异常数据那么简单的事情，怎么可能要3天时间呢！今天下班前，务必把这个事情搞定！</td>\n    </tr>\n    <tr>\n      <th>3</th>\n      <td>1</td>\n      <td>李总说的这个想法，一定要在8月10日之前形成一个成熟的方案。</td>\n    </tr>\n    <tr>\n      <th>4</th>\n      <td>1</td>\n      <td>走廊里的空箱子太多了，小张你明天把它们全部处理掉。</td>\n    </tr>\n  </tbody>\n</table>\n</div>"
     },
     "metadata": {},
     "execution_count": 234
    }
   ],
   "source": [
    "import pandas as pd\n",
    "\n",
    "data = pd.read_csv('./datasets/todo_train.csv')\n",
    "data.head(5)"
   ]
  },
  {
   "cell_type": "code",
   "execution_count": 235,
   "metadata": {
    "tags": []
   },
   "outputs": [],
   "source": [
    "for i in range(len(data['label'])):\n",
    "    data['label'][i] = '__label__' + str(data['label'][i])"
   ]
  },
  {
   "cell_type": "code",
   "execution_count": 236,
   "metadata": {
    "tags": []
   },
   "outputs": [],
   "source": [
    "import jieba\n",
    "jieba.enable_parallel()\n",
    "data['text_division'] = data['text'].apply(lambda i:jieba.cut(i))\n",
    "data['text_division'] = [' '.join(i) for i in data['text_division']]"
   ]
  },
  {
   "cell_type": "code",
   "execution_count": 237,
   "metadata": {},
   "outputs": [
    {
     "output_type": "execute_result",
     "data": {
      "text/plain": "        label  ...                                      text_division\n0  __label__1  ...  小张 ， 你 明天 需要 把 产品 方案 输出 ， 然后 给 小王 。 小 王后 天 把 交...\n1  __label__1  ...                            我 明天 应该 可以 把 这个 文档 搞定 。\n2  __label__1  ...  统计 异常 数据 那么 简单 的 事情 ， 怎么 可能 要 3 天 时间 呢 ！ 今天 下班...\n3  __label__1  ...   李总说 的 这个 想法 ， 一定 要 在 8 月 10 日 之前 形成 一个 成熟 的 方案 。\n4  __label__1  ...           走廊 里 的 空箱子 太多 了 ， 小张 你 明天 把 它们 全部 处理 掉 。\n\n[5 rows x 3 columns]",
      "text/html": "<div>\n<style scoped>\n    .dataframe tbody tr th:only-of-type {\n        vertical-align: middle;\n    }\n\n    .dataframe tbody tr th {\n        vertical-align: top;\n    }\n\n    .dataframe thead th {\n        text-align: right;\n    }\n</style>\n<table border=\"1\" class=\"dataframe\">\n  <thead>\n    <tr style=\"text-align: right;\">\n      <th></th>\n      <th>label</th>\n      <th>text</th>\n      <th>text_division</th>\n    </tr>\n  </thead>\n  <tbody>\n    <tr>\n      <th>0</th>\n      <td>__label__1</td>\n      <td>小张，你明天需要把产品方案输出，然后给小王。小王后天把交互做一下，大后天评审。</td>\n      <td>小张 ， 你 明天 需要 把 产品 方案 输出 ， 然后 给 小王 。 小 王后 天 把 交...</td>\n    </tr>\n    <tr>\n      <th>1</th>\n      <td>__label__1</td>\n      <td>我明天应该可以把这个文档搞定。</td>\n      <td>我 明天 应该 可以 把 这个 文档 搞定 。</td>\n    </tr>\n    <tr>\n      <th>2</th>\n      <td>__label__1</td>\n      <td>统计异常数据那么简单的事情，怎么可能要3天时间呢！今天下班前，务必把这个事情搞定！</td>\n      <td>统计 异常 数据 那么 简单 的 事情 ， 怎么 可能 要 3 天 时间 呢 ！ 今天 下班...</td>\n    </tr>\n    <tr>\n      <th>3</th>\n      <td>__label__1</td>\n      <td>李总说的这个想法，一定要在8月10日之前形成一个成熟的方案。</td>\n      <td>李总说 的 这个 想法 ， 一定 要 在 8 月 10 日 之前 形成 一个 成熟 的 方案 。</td>\n    </tr>\n    <tr>\n      <th>4</th>\n      <td>__label__1</td>\n      <td>走廊里的空箱子太多了，小张你明天把它们全部处理掉。</td>\n      <td>走廊 里 的 空箱子 太多 了 ， 小张 你 明天 把 它们 全部 处理 掉 。</td>\n    </tr>\n  </tbody>\n</table>\n</div>"
     },
     "metadata": {},
     "execution_count": 237
    }
   ],
   "source": [
    "data.head()"
   ]
  },
  {
   "cell_type": "code",
   "execution_count": 238,
   "metadata": {},
   "outputs": [],
   "source": [
    "with open('./datasets/todo.train','w',encoding='utf-8') as fp:\n",
    "    for i in range(len(data['label'])):\n",
    "        line = data['label'][i]+' , '+data['text_division'][i]\n",
    "        fp.write(line)\n",
    "        fp.write('\\n')"
   ]
  },
  {
   "cell_type": "markdown",
   "metadata": {},
   "source": [
    "## 1.2 测试数据集预处理"
   ]
  },
  {
   "cell_type": "code",
   "execution_count": 239,
   "metadata": {},
   "outputs": [
    {
     "output_type": "execute_result",
     "data": {
      "text/plain": "   0                                                  1\n0  1            小张，你明天需要把产品方案输出，然后给小王。小王后天把交互做一下，大后天评审。\n1  1                            投标方案很重要，这周五定要写好，不然会来不及。\n2  1       个人中心这个界面优化一下有那么难吗？不要找那么多接口，我就问你，8月底之前你能不能做完！\n3  1  工程样品验收一定要尽快完成。你说的8月底太迟了，这个事情必须在8月中旬搞定，没得商量，就那么定了。\n4  1                                产品方案不急，明天或者后天给到我都行。",
      "text/html": "<div>\n<style scoped>\n    .dataframe tbody tr th:only-of-type {\n        vertical-align: middle;\n    }\n\n    .dataframe tbody tr th {\n        vertical-align: top;\n    }\n\n    .dataframe thead th {\n        text-align: right;\n    }\n</style>\n<table border=\"1\" class=\"dataframe\">\n  <thead>\n    <tr style=\"text-align: right;\">\n      <th></th>\n      <th>0</th>\n      <th>1</th>\n    </tr>\n  </thead>\n  <tbody>\n    <tr>\n      <th>0</th>\n      <td>1</td>\n      <td>小张，你明天需要把产品方案输出，然后给小王。小王后天把交互做一下，大后天评审。</td>\n    </tr>\n    <tr>\n      <th>1</th>\n      <td>1</td>\n      <td>投标方案很重要，这周五定要写好，不然会来不及。</td>\n    </tr>\n    <tr>\n      <th>2</th>\n      <td>1</td>\n      <td>个人中心这个界面优化一下有那么难吗？不要找那么多接口，我就问你，8月底之前你能不能做完！</td>\n    </tr>\n    <tr>\n      <th>3</th>\n      <td>1</td>\n      <td>工程样品验收一定要尽快完成。你说的8月底太迟了，这个事情必须在8月中旬搞定，没得商量，就那么定了。</td>\n    </tr>\n    <tr>\n      <th>4</th>\n      <td>1</td>\n      <td>产品方案不急，明天或者后天给到我都行。</td>\n    </tr>\n  </tbody>\n</table>\n</div>"
     },
     "metadata": {},
     "execution_count": 239
    }
   ],
   "source": [
    "testData = pd.read_csv('./datasets/todo_test.csv',header=None)\n",
    "testData.head()"
   ]
  },
  {
   "cell_type": "code",
   "execution_count": 240,
   "metadata": {},
   "outputs": [],
   "source": [
    "testData.columns = ['label','text']"
   ]
  },
  {
   "cell_type": "code",
   "execution_count": 241,
   "metadata": {},
   "outputs": [
    {
     "output_type": "execute_result",
     "data": {
      "text/plain": "   label                                               text\n0      1            小张，你明天需要把产品方案输出，然后给小王。小王后天把交互做一下，大后天评审。\n1      1                            投标方案很重要，这周五定要写好，不然会来不及。\n2      1       个人中心这个界面优化一下有那么难吗？不要找那么多接口，我就问你，8月底之前你能不能做完！\n3      1  工程样品验收一定要尽快完成。你说的8月底太迟了，这个事情必须在8月中旬搞定，没得商量，就那么定了。\n4      1                                产品方案不急，明天或者后天给到我都行。",
      "text/html": "<div>\n<style scoped>\n    .dataframe tbody tr th:only-of-type {\n        vertical-align: middle;\n    }\n\n    .dataframe tbody tr th {\n        vertical-align: top;\n    }\n\n    .dataframe thead th {\n        text-align: right;\n    }\n</style>\n<table border=\"1\" class=\"dataframe\">\n  <thead>\n    <tr style=\"text-align: right;\">\n      <th></th>\n      <th>label</th>\n      <th>text</th>\n    </tr>\n  </thead>\n  <tbody>\n    <tr>\n      <th>0</th>\n      <td>1</td>\n      <td>小张，你明天需要把产品方案输出，然后给小王。小王后天把交互做一下，大后天评审。</td>\n    </tr>\n    <tr>\n      <th>1</th>\n      <td>1</td>\n      <td>投标方案很重要，这周五定要写好，不然会来不及。</td>\n    </tr>\n    <tr>\n      <th>2</th>\n      <td>1</td>\n      <td>个人中心这个界面优化一下有那么难吗？不要找那么多接口，我就问你，8月底之前你能不能做完！</td>\n    </tr>\n    <tr>\n      <th>3</th>\n      <td>1</td>\n      <td>工程样品验收一定要尽快完成。你说的8月底太迟了，这个事情必须在8月中旬搞定，没得商量，就那么定了。</td>\n    </tr>\n    <tr>\n      <th>4</th>\n      <td>1</td>\n      <td>产品方案不急，明天或者后天给到我都行。</td>\n    </tr>\n  </tbody>\n</table>\n</div>"
     },
     "metadata": {},
     "execution_count": 241
    }
   ],
   "source": [
    "testData.head()"
   ]
  },
  {
   "cell_type": "code",
   "execution_count": 242,
   "metadata": {},
   "outputs": [],
   "source": [
    "for i in range(len(testData['label'])):\n",
    "    testData['label'][i] = '__label__'+str(testData['label'][i])"
   ]
  },
  {
   "cell_type": "code",
   "execution_count": 243,
   "metadata": {},
   "outputs": [
    {
     "output_type": "execute_result",
     "data": {
      "text/plain": "        label                                               text\n0  __label__1            小张，你明天需要把产品方案输出，然后给小王。小王后天把交互做一下，大后天评审。\n1  __label__1                            投标方案很重要，这周五定要写好，不然会来不及。\n2  __label__1       个人中心这个界面优化一下有那么难吗？不要找那么多接口，我就问你，8月底之前你能不能做完！\n3  __label__1  工程样品验收一定要尽快完成。你说的8月底太迟了，这个事情必须在8月中旬搞定，没得商量，就那么定了。\n4  __label__1                                产品方案不急，明天或者后天给到我都行。",
      "text/html": "<div>\n<style scoped>\n    .dataframe tbody tr th:only-of-type {\n        vertical-align: middle;\n    }\n\n    .dataframe tbody tr th {\n        vertical-align: top;\n    }\n\n    .dataframe thead th {\n        text-align: right;\n    }\n</style>\n<table border=\"1\" class=\"dataframe\">\n  <thead>\n    <tr style=\"text-align: right;\">\n      <th></th>\n      <th>label</th>\n      <th>text</th>\n    </tr>\n  </thead>\n  <tbody>\n    <tr>\n      <th>0</th>\n      <td>__label__1</td>\n      <td>小张，你明天需要把产品方案输出，然后给小王。小王后天把交互做一下，大后天评审。</td>\n    </tr>\n    <tr>\n      <th>1</th>\n      <td>__label__1</td>\n      <td>投标方案很重要，这周五定要写好，不然会来不及。</td>\n    </tr>\n    <tr>\n      <th>2</th>\n      <td>__label__1</td>\n      <td>个人中心这个界面优化一下有那么难吗？不要找那么多接口，我就问你，8月底之前你能不能做完！</td>\n    </tr>\n    <tr>\n      <th>3</th>\n      <td>__label__1</td>\n      <td>工程样品验收一定要尽快完成。你说的8月底太迟了，这个事情必须在8月中旬搞定，没得商量，就那么定了。</td>\n    </tr>\n    <tr>\n      <th>4</th>\n      <td>__label__1</td>\n      <td>产品方案不急，明天或者后天给到我都行。</td>\n    </tr>\n  </tbody>\n</table>\n</div>"
     },
     "metadata": {},
     "execution_count": 243
    }
   ],
   "source": [
    "testData.head()"
   ]
  },
  {
   "cell_type": "code",
   "execution_count": 244,
   "metadata": {},
   "outputs": [],
   "source": [
    "testData['text_division'] = testData['text'].apply(lambda i: jieba.cut(i))\n",
    "testData['text_division'] = [' '.join(i) for i in testData['text_division']]"
   ]
  },
  {
   "cell_type": "code",
   "execution_count": 245,
   "metadata": {},
   "outputs": [
    {
     "output_type": "execute_result",
     "data": {
      "text/plain": "        label  ...                                      text_division\n0  __label__1  ...  小张 ， 你 明天 需要 把 产品 方案 输出 ， 然后 给 小王 。 小 王后 天 把 交...\n1  __label__1  ...              投标 方案 很 重要 ， 这 周五 定要 写 好 ， 不然 会 来不及 。\n2  __label__1  ...  个人 中心 这个 界面 优化 一下 有 那么 难 吗 ？ 不要 找 那么 多 接口 ， 我 ...\n3  __label__1  ...  工程 样品 验收 一定 要 尽快 完成 。 你 说 的 8 月底 太迟 了 ， 这个 事情 ...\n4  __label__1  ...                    产品 方案 不 急 ， 明天 或者 后天 给 到 我 都行 。\n\n[5 rows x 3 columns]",
      "text/html": "<div>\n<style scoped>\n    .dataframe tbody tr th:only-of-type {\n        vertical-align: middle;\n    }\n\n    .dataframe tbody tr th {\n        vertical-align: top;\n    }\n\n    .dataframe thead th {\n        text-align: right;\n    }\n</style>\n<table border=\"1\" class=\"dataframe\">\n  <thead>\n    <tr style=\"text-align: right;\">\n      <th></th>\n      <th>label</th>\n      <th>text</th>\n      <th>text_division</th>\n    </tr>\n  </thead>\n  <tbody>\n    <tr>\n      <th>0</th>\n      <td>__label__1</td>\n      <td>小张，你明天需要把产品方案输出，然后给小王。小王后天把交互做一下，大后天评审。</td>\n      <td>小张 ， 你 明天 需要 把 产品 方案 输出 ， 然后 给 小王 。 小 王后 天 把 交...</td>\n    </tr>\n    <tr>\n      <th>1</th>\n      <td>__label__1</td>\n      <td>投标方案很重要，这周五定要写好，不然会来不及。</td>\n      <td>投标 方案 很 重要 ， 这 周五 定要 写 好 ， 不然 会 来不及 。</td>\n    </tr>\n    <tr>\n      <th>2</th>\n      <td>__label__1</td>\n      <td>个人中心这个界面优化一下有那么难吗？不要找那么多接口，我就问你，8月底之前你能不能做完！</td>\n      <td>个人 中心 这个 界面 优化 一下 有 那么 难 吗 ？ 不要 找 那么 多 接口 ， 我 ...</td>\n    </tr>\n    <tr>\n      <th>3</th>\n      <td>__label__1</td>\n      <td>工程样品验收一定要尽快完成。你说的8月底太迟了，这个事情必须在8月中旬搞定，没得商量，就那么定了。</td>\n      <td>工程 样品 验收 一定 要 尽快 完成 。 你 说 的 8 月底 太迟 了 ， 这个 事情 ...</td>\n    </tr>\n    <tr>\n      <th>4</th>\n      <td>__label__1</td>\n      <td>产品方案不急，明天或者后天给到我都行。</td>\n      <td>产品 方案 不 急 ， 明天 或者 后天 给 到 我 都行 。</td>\n    </tr>\n  </tbody>\n</table>\n</div>"
     },
     "metadata": {},
     "execution_count": 245
    }
   ],
   "source": [
    "testData.head()"
   ]
  },
  {
   "cell_type": "code",
   "execution_count": 247,
   "metadata": {},
   "outputs": [],
   "source": [
    "with open('./datasets/todo.test','w',encoding='utf-8') as fp:\n",
    "    for i in range(len(testData['label'])):\n",
    "        line = testData['label'][i] + ' , ' + testData['text_division'][i]\n",
    "        fp.write(line)\n",
    "        fp.write('\\n')"
   ]
  },
  {
   "cell_type": "markdown",
   "metadata": {},
   "source": [
    "# 2. 建立预测模型"
   ]
  },
  {
   "cell_type": "markdown",
   "metadata": {},
   "source": [
    "## 2.1 训练数据传入训练模型"
   ]
  },
  {
   "cell_type": "code",
   "execution_count": 249,
   "metadata": {},
   "outputs": [],
   "source": [
    "import fasttext.FastText as fasttext\n",
    "# model = fasttext.train_supervised(input=\"cooking.train\", lr=0.5, epoch=25, wordNgrams=2, bucket=200000, dim=50, loss='ova')\n",
    "# changing the number of epochs (using the option -epoch, standard range [5 - 50]) ;\n",
    "# changing the learning rate (using the option -lr, standard range [0.1 - 1.0]) ;\n",
    "# using word n-grams (using the option -wordNgrams, standard range [1 - 5]).\n",
    "model = fasttext.train_supervised(input='./datasets/todo.train',lr = 0.5,epoch = 15, wordNgrams=3)"
   ]
  },
  {
   "cell_type": "markdown",
   "metadata": {},
   "source": [
    "## 2.2 保存模型"
   ]
  },
  {
   "cell_type": "code",
   "execution_count": 250,
   "metadata": {},
   "outputs": [],
   "source": [
    " model.save_model('todo_fastText.bin')"
   ]
  },
  {
   "cell_type": "markdown",
   "metadata": {},
   "source": [
    "## 2.3 导入模型"
   ]
  },
  {
   "cell_type": "code",
   "execution_count": 251,
   "metadata": {},
   "outputs": [],
   "source": [
    "model = fasttext.load_model('todo_fastText.bin')"
   ]
  },
  {
   "cell_type": "markdown",
   "metadata": {},
   "source": [
    "## 2.4 验证测试"
   ]
  },
  {
   "cell_type": "code",
   "execution_count": 252,
   "metadata": {
    "tags": []
   },
   "outputs": [
    {
     "output_type": "stream",
     "name": "stdout",
     "text": "Test set contains 50 pieces of data.\nRrecision is 0.96.\nRecall is 0.96.\n"
    }
   ],
   "source": [
    "result = model.test('./datasets/todo.test')\n",
    "print('Test set contains %d pieces of data.' %result[0])\n",
    "print('Rrecision is %.2f.' %result[1])\n",
    "print('Recall is %.2f.' %result[2])"
   ]
  },
  {
   "cell_type": "code",
   "execution_count": 253,
   "metadata": {},
   "outputs": [
    {
     "output_type": "execute_result",
     "data": {
      "text/plain": "([['__label__1'], ['__label__1']],\n [array([0.5029745], dtype=float32), array([0.5093326], dtype=float32)])"
     },
     "metadata": {},
     "execution_count": 253
    }
   ],
   "source": [
    "# predict several text together\n",
    "model.predict(['你 这 两天 帮 我订 一张 8 月 20 号 去 成都 的 机票 。','老李 明天 就 会 把 方案 交给 你 验收 。'])"
   ]
  },
  {
   "cell_type": "code",
   "execution_count": 254,
   "metadata": {},
   "outputs": [
    {
     "output_type": "execute_result",
     "data": {
      "text/plain": "(('__label__0',), array([0.51889998]))"
     },
     "metadata": {},
     "execution_count": 254
    }
   ],
   "source": [
    "model.predict('明天把文档整理好给我')"
   ]
  },
  {
   "cell_type": "code",
   "execution_count": 255,
   "metadata": {},
   "outputs": [
    {
     "output_type": "execute_result",
     "data": {
      "text/plain": "(('__label__1',), array([0.50517923]))"
     },
     "metadata": {},
     "execution_count": 255
    }
   ],
   "source": [
    "model.predict('这个 自动 预警 机制 下 周五 能 做好 吧 ， 到时候 可以 测试 一下 。')"
   ]
  },
  {
   "cell_type": "code",
   "execution_count": 256,
   "metadata": {},
   "outputs": [
    {
     "output_type": "execute_result",
     "data": {
      "text/plain": "(('__label__1',), array([0.50086963]))"
     },
     "metadata": {},
     "execution_count": 256
    }
   ],
   "source": [
    "model.predict('小 李 你 去 帮 我 做 一个 介绍 产品 的 ppt ， 主要 针对 商务 、 市场 那边 做 培训 用 的 。 最迟在 20 号 要 给。')"
   ]
  }
 ]
}